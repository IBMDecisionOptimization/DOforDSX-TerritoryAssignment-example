{
 "cells": [
  {
   "cell_type": "code",
   "execution_count": 7,
   "metadata": {
    "collapsed": false,
    "deletable": true,
    "editable": true
   },
   "outputs": [
    {
     "name": "stdout",
     "output_type": "stream",
     "text": [
      "        state   latitude   longitude\n",
      "0     Alabama  32.806671  -86.791130\n",
      "1      Alaska  61.370716 -152.404419\n",
      "2     Arizona  33.729759 -111.431221\n",
      "3    Arkansas  34.969704  -92.373123\n",
      "4  California  36.116203 -119.681564\n",
      "        state  expected revenue  customers initial_salesrep\n",
      "0     Alabama            200000         10             Eric\n",
      "1      Alaska            100000         12             Mark\n",
      "2     Arizona            150000         15             Paul\n",
      "3    Arkansas            150000          8             John\n",
      "4  California            250000          6             John\n",
      "  salesrep  index  capacity          home    quota\n",
      "0     John      1        70    California  1000000\n",
      "1     Jack      2        70      New York  1200000\n",
      "2     Paul      3        70      Oklahoma   600000\n",
      "3     Mark      4        50       Florida   800000\n",
      "4     Eric      5        80  Pennsylvania  1400000\n"
     ]
    }
   ],
   "source": [
    "\n",
    "\n",
    "import os, pandas as pd\n",
    "# Add asset from file system\n",
    "stateslatlong = pd.read_csv(os.environ['DSX_PROJECT_DIR']+'/datasets/statelatlong.csv')\n",
    "print stateslatlong.head()\n",
    "\n",
    "states = pd.read_csv(os.environ['DSX_PROJECT_DIR']+'/datasets/state.csv')\n",
    "print states.head()\n",
    "\n",
    "\n",
    "salesreps = pd.read_csv(os.environ['DSX_PROJECT_DIR']+'/datasets/salesrep.csv')\n",
    "print salesreps.head()"
   ]
  },
  {
   "cell_type": "code",
   "execution_count": 2,
   "metadata": {
    "collapsed": false,
    "deletable": true,
    "editable": true
   },
   "outputs": [],
   "source": [
    "from math import sin, cos, sqrt, atan2, radians\n",
    "\n",
    "# approximate radius of earth in km\n",
    "R = 6373.0\n",
    "\n",
    "def distance( lat1, lon1, lat2, lon2 ):\n",
    "    lat1 = radians(lat1)\n",
    "    lon1 = radians(lon1)\n",
    "    lat2 = radians(lat2)\n",
    "    lon2 = radians(lon2)\n",
    "    dlon = lon2 - lon1\n",
    "    dlat = lat2 - lat1\n",
    "\n",
    "    a = sin(dlat / 2)**2 + cos(lat1) * cos(lat2) * sin(dlon / 2)**2\n",
    "    c = 2 * atan2(sqrt(a), sqrt(1 - a))\n",
    "\n",
    "    distance = R * c\n",
    "\n",
    "    return distance;\n",
    "\n",
    "#print(\"Result:\", distance(52.2296756, 21.0122287, 52.406374, 16.9251681))\n",
    "#print(\"Should be:\", 278.546, \"km\")"
   ]
  },
  {
   "cell_type": "code",
   "execution_count": 18,
   "metadata": {
    "collapsed": false,
    "deletable": true,
    "editable": true
   },
   "outputs": [
    {
     "data": {
      "text/html": [
       "<div>\n",
       "<style scoped>\n",
       "    .dataframe tbody tr th:only-of-type {\n",
       "        vertical-align: middle;\n",
       "    }\n",
       "\n",
       "    .dataframe tbody tr th {\n",
       "        vertical-align: top;\n",
       "    }\n",
       "\n",
       "    .dataframe thead th {\n",
       "        text-align: right;\n",
       "    }\n",
       "</style>\n",
       "<table border=\"1\" class=\"dataframe\">\n",
       "  <thead>\n",
       "    <tr style=\"text-align: right;\">\n",
       "      <th></th>\n",
       "      <th>from</th>\n",
       "      <th>to</th>\n",
       "      <th>value</th>\n",
       "    </tr>\n",
       "  </thead>\n",
       "  <tbody>\n",
       "    <tr>\n",
       "      <th>0</th>\n",
       "      <td>Alabama</td>\n",
       "      <td>Alabama</td>\n",
       "      <td>0.000000</td>\n",
       "    </tr>\n",
       "    <tr>\n",
       "      <th>1</th>\n",
       "      <td>Alabama</td>\n",
       "      <td>Alaska</td>\n",
       "      <td>5569.338239</td>\n",
       "    </tr>\n",
       "    <tr>\n",
       "      <th>2</th>\n",
       "      <td>Alabama</td>\n",
       "      <td>Arizona</td>\n",
       "      <td>2288.410721</td>\n",
       "    </tr>\n",
       "    <tr>\n",
       "      <th>3</th>\n",
       "      <td>Alabama</td>\n",
       "      <td>Arkansas</td>\n",
       "      <td>568.679314</td>\n",
       "    </tr>\n",
       "    <tr>\n",
       "      <th>4</th>\n",
       "      <td>Alabama</td>\n",
       "      <td>California</td>\n",
       "      <td>3024.296944</td>\n",
       "    </tr>\n",
       "  </tbody>\n",
       "</table>\n",
       "</div>"
      ],
      "text/plain": [
       "      from          to        value\n",
       "0  Alabama     Alabama     0.000000\n",
       "1  Alabama      Alaska  5569.338239\n",
       "2  Alabama     Arizona  2288.410721\n",
       "3  Alabama    Arkansas   568.679314\n",
       "4  Alabama  California  3024.296944"
      ]
     },
     "execution_count": 18,
     "metadata": {},
     "output_type": "execute_result"
    }
   ],
   "source": [
    "data = []\n",
    "for s1 in states['state']:\n",
    "    lat1 = stateslatlong.latitude[states.state == s1]\n",
    "    lon1 = stateslatlong.longitude[states.state == s1]\n",
    "    for s2 in states['state']:\n",
    "        lat2 = stateslatlong.latitude[states.state == s2]\n",
    "        lon2 = stateslatlong.longitude[states.state == s2]\n",
    "        dist = distance(lat1, lon1, lat2, lon2)\n",
    "        data.append([s1, s2, dist])\n",
    "        \n",
    "alldistances = pd.DataFrame(data=data, columns=['from', 'to', 'value'])\n",
    "alldistances.head()"
   ]
  },
  {
   "cell_type": "code",
   "execution_count": 19,
   "metadata": {
    "collapsed": false,
    "deletable": true,
    "editable": true
   },
   "outputs": [],
   "source": [
    "alldistances.to_csv(os.environ['DSX_PROJECT_DIR']+'/datasets/alldistance.csv', index=False)"
   ]
  },
  {
   "cell_type": "code",
   "execution_count": 4,
   "metadata": {
    "collapsed": false,
    "deletable": true,
    "editable": true
   },
   "outputs": [
    {
     "data": {
      "text/html": [
       "<div>\n",
       "<style scoped>\n",
       "    .dataframe tbody tr th:only-of-type {\n",
       "        vertical-align: middle;\n",
       "    }\n",
       "\n",
       "    .dataframe tbody tr th {\n",
       "        vertical-align: top;\n",
       "    }\n",
       "\n",
       "    .dataframe thead th {\n",
       "        text-align: right;\n",
       "    }\n",
       "</style>\n",
       "<table border=\"1\" class=\"dataframe\">\n",
       "  <thead>\n",
       "    <tr style=\"text-align: right;\">\n",
       "      <th></th>\n",
       "      <th>salesrep</th>\n",
       "      <th>state</th>\n",
       "      <th>value</th>\n",
       "    </tr>\n",
       "  </thead>\n",
       "  <tbody>\n",
       "    <tr>\n",
       "      <th>0</th>\n",
       "      <td>John</td>\n",
       "      <td>Alabama</td>\n",
       "      <td>3024.0</td>\n",
       "    </tr>\n",
       "    <tr>\n",
       "      <th>1</th>\n",
       "      <td>John</td>\n",
       "      <td>Alaska</td>\n",
       "      <td>3620.0</td>\n",
       "    </tr>\n",
       "    <tr>\n",
       "      <th>2</th>\n",
       "      <td>John</td>\n",
       "      <td>Arizona</td>\n",
       "      <td>798.0</td>\n",
       "    </tr>\n",
       "    <tr>\n",
       "      <th>3</th>\n",
       "      <td>John</td>\n",
       "      <td>Arkansas</td>\n",
       "      <td>2467.0</td>\n",
       "    </tr>\n",
       "    <tr>\n",
       "      <th>4</th>\n",
       "      <td>John</td>\n",
       "      <td>California</td>\n",
       "      <td>0.0</td>\n",
       "    </tr>\n",
       "  </tbody>\n",
       "</table>\n",
       "</div>"
      ],
      "text/plain": [
       "  salesrep       state   value\n",
       "0     John     Alabama  3024.0\n",
       "1     John      Alaska  3620.0\n",
       "2     John     Arizona   798.0\n",
       "3     John    Arkansas  2467.0\n",
       "4     John  California     0.0"
      ]
     },
     "execution_count": 4,
     "metadata": {},
     "output_type": "execute_result"
    }
   ],
   "source": [
    "data = []\n",
    "for s1 in salesreps['salesrep']:\n",
    "    home = salesreps.home[salesreps.salesrep == s1].iloc[0]\n",
    "    lat1 = stateslatlong.latitude[states.state == home]\n",
    "    lon1 = stateslatlong.longitude[states.state == home]\n",
    "    for s2 in states['state']:\n",
    "        lat2 = stateslatlong.latitude[states.state == s2]\n",
    "        lon2 = stateslatlong.longitude[states.state == s2]\n",
    "        dist = round(distance(lat1, lon1, lat2, lon2), 0)\n",
    "        data.append([s1, s2, dist])\n",
    "        \n",
    "homedistances = pd.DataFrame(data=data, columns=['salesrep', 'state', 'value'])\n",
    "homedistances.head()"
   ]
  },
  {
   "cell_type": "code",
   "execution_count": 5,
   "metadata": {
    "collapsed": true,
    "deletable": true,
    "editable": true
   },
   "outputs": [],
   "source": [
    "homedistances.to_csv(os.environ['DSX_PROJECT_DIR']+'/datasets/homedistance.csv', index=False)"
   ]
  },
  {
   "cell_type": "code",
   "execution_count": 11,
   "metadata": {
    "collapsed": false,
    "deletable": true,
    "editable": true
   },
   "outputs": [
    {
     "data": {
      "text/html": [
       "<div>\n",
       "<style scoped>\n",
       "    .dataframe tbody tr th:only-of-type {\n",
       "        vertical-align: middle;\n",
       "    }\n",
       "\n",
       "    .dataframe tbody tr th {\n",
       "        vertical-align: top;\n",
       "    }\n",
       "\n",
       "    .dataframe thead th {\n",
       "        text-align: right;\n",
       "    }\n",
       "</style>\n",
       "<table border=\"1\" class=\"dataframe\">\n",
       "  <thead>\n",
       "    <tr style=\"text-align: right;\">\n",
       "      <th></th>\n",
       "      <th>state</th>\n",
       "      <th>salesrep</th>\n",
       "      <th>value</th>\n",
       "    </tr>\n",
       "  </thead>\n",
       "  <tbody>\n",
       "    <tr>\n",
       "      <th>0</th>\n",
       "      <td>Alabama</td>\n",
       "      <td>John</td>\n",
       "      <td>1</td>\n",
       "    </tr>\n",
       "    <tr>\n",
       "      <th>1</th>\n",
       "      <td>Alabama</td>\n",
       "      <td>Jack</td>\n",
       "      <td>1</td>\n",
       "    </tr>\n",
       "    <tr>\n",
       "      <th>2</th>\n",
       "      <td>Alabama</td>\n",
       "      <td>Paul</td>\n",
       "      <td>1</td>\n",
       "    </tr>\n",
       "    <tr>\n",
       "      <th>3</th>\n",
       "      <td>Alabama</td>\n",
       "      <td>Mark</td>\n",
       "      <td>1</td>\n",
       "    </tr>\n",
       "    <tr>\n",
       "      <th>4</th>\n",
       "      <td>Alabama</td>\n",
       "      <td>Eric</td>\n",
       "      <td>0</td>\n",
       "    </tr>\n",
       "  </tbody>\n",
       "</table>\n",
       "</div>"
      ],
      "text/plain": [
       "     state salesrep  value\n",
       "0  Alabama     John      1\n",
       "1  Alabama     Jack      1\n",
       "2  Alabama     Paul      1\n",
       "3  Alabama     Mark      1\n",
       "4  Alabama     Eric      0"
      ]
     },
     "execution_count": 11,
     "metadata": {},
     "output_type": "execute_result"
    }
   ],
   "source": [
    "data = []\n",
    "for s1 in states['state']:\n",
    "    prev = states.initial_salesrep[states.state == s1].iloc[0]\n",
    "    for s2 in salesreps['salesrep']:\n",
    "        disruption = 1\n",
    "        if s2 == prev:\n",
    "            disruption = 0\n",
    "        data.append([s1, s2, disruption])\n",
    "        \n",
    "disruptions = pd.DataFrame(data=data, columns=['state', 'salesrep', 'value'])\n",
    "disruptions.head()"
   ]
  },
  {
   "cell_type": "code",
   "execution_count": 12,
   "metadata": {
    "collapsed": true
   },
   "outputs": [],
   "source": [
    "disruptions.to_csv(os.environ['DSX_PROJECT_DIR']+'/datasets/disruption.csv', index=False)"
   ]
  },
  {
   "cell_type": "code",
   "execution_count": null,
   "metadata": {
    "collapsed": true
   },
   "outputs": [],
   "source": []
  }
 ],
 "metadata": {
  "kernelspec": {
   "display_name": "Python2.7 with DSX Spark 2.0.2",
   "language": "python",
   "name": "python2"
  },
  "language_info": {
   "codemirror_mode": {
    "name": "ipython",
    "version": 2
   },
   "file_extension": ".py",
   "mimetype": "text/x-python",
   "name": "python",
   "nbconvert_exporter": "python",
   "pygments_lexer": "ipython2",
   "version": "2.7.13"
  }
 },
 "nbformat": 4,
 "nbformat_minor": 2
}
